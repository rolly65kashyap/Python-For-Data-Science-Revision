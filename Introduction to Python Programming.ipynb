{
 "cells": [
  {
   "cell_type": "markdown",
   "id": "14044b14",
   "metadata": {},
   "source": [
    "## Introduction to Python Programming"
   ]
  },
  {
   "cell_type": "markdown",
   "id": "501c0b8e",
   "metadata": {},
   "source": [
    "1. Different Arithmetic Operations in Python?"
   ]
  },
  {
   "cell_type": "markdown",
   "id": "7ef5a4ec",
   "metadata": {},
   "source": [
    "+, -, *, /, //, %, **"
   ]
  },
  {
   "cell_type": "markdown",
   "id": "6774e02f",
   "metadata": {},
   "source": [
    "2. What is the difference between the / and the // operators?"
   ]
  },
  {
   "cell_type": "markdown",
   "id": "63b0a2a7",
   "metadata": {},
   "source": [
    "15/7 = 14.1, \n",
    "15//7 = 14"
   ]
  },
  {
   "cell_type": "markdown",
   "id": "660720fb",
   "metadata": {},
   "source": [
    "3. What is the difference between the * and the ** operators?"
   ]
  },
  {
   "cell_type": "markdown",
   "id": "3a485354",
   "metadata": {},
   "source": [
    "2**3 = 6, 2****3 = 8"
   ]
  },
  {
   "cell_type": "markdown",
   "id": "064dd9cb",
   "metadata": {},
   "source": [
    "4. What is the order of precedence for arithmetic operators in Python?"
   ]
  },
  {
   "cell_type": "markdown",
   "id": "b86333c8",
   "metadata": {},
   "source": [
    "BODMAS"
   ]
  },
  {
   "cell_type": "markdown",
   "id": "7e1da9db",
   "metadata": {},
   "source": [
    "5. How do you create a variable in Python?"
   ]
  },
  {
   "cell_type": "markdown",
   "id": "f6685204",
   "metadata": {},
   "source": [
    "x = 56 #x is the var"
   ]
  },
  {
   "cell_type": "markdown",
   "id": "1e71ec6f",
   "metadata": {},
   "source": [
    "6. What happens if you try to access a variable that has not been defined?"
   ]
  },
  {
   "cell_type": "code",
   "execution_count": 4,
   "id": "9a6c11e6",
   "metadata": {},
   "outputs": [
    {
     "ename": "NameError",
     "evalue": "name 'f' is not defined",
     "output_type": "error",
     "traceback": [
      "\u001b[1;31m---------------------------------------------------------------------------\u001b[0m",
      "\u001b[1;31mNameError\u001b[0m                                 Traceback (most recent call last)",
      "\u001b[1;32m<ipython-input-4-a9fcd54b25e7>\u001b[0m in \u001b[0;36m<module>\u001b[1;34m\u001b[0m\n\u001b[1;32m----> 1\u001b[1;33m \u001b[0mf\u001b[0m\u001b[1;33m\u001b[0m\u001b[1;33m\u001b[0m\u001b[0m\n\u001b[0m",
      "\u001b[1;31mNameError\u001b[0m: name 'f' is not defined"
     ]
    }
   ],
   "source": [
    "f"
   ]
  },
  {
   "cell_type": "markdown",
   "id": "f3a1457a",
   "metadata": {},
   "source": [
    "7. What are the different ways of creating comments in Python code?"
   ]
  },
  {
   "cell_type": "markdown",
   "id": "649ca03e",
   "metadata": {},
   "source": [
    "single line comment --> #"
   ]
  },
  {
   "cell_type": "markdown",
   "id": "4aebdabe",
   "metadata": {},
   "source": [
    "8. What is the result of a comparison operation?"
   ]
  },
  {
   "cell_type": "markdown",
   "id": "9c5782f3",
   "metadata": {},
   "source": [
    "Result is True or False"
   ]
  },
  {
   "cell_type": "markdown",
   "id": "430738c3",
   "metadata": {},
   "source": [
    "9. How do you create headings of different sizes using Markdown?"
   ]
  },
  {
   "cell_type": "markdown",
   "id": "ddd0cbc5",
   "metadata": {},
   "source": [
    "# Heading 1\n",
    "## Heading 2\n",
    "### Heading 3\n",
    "#### Heading 4\n",
    "##### Heading 5\n",
    "###### Heading 6"
   ]
  },
  {
   "cell_type": "markdown",
   "id": "10e9c3fb",
   "metadata": {},
   "source": [
    "10. How do you create bulleted and numbered lists using Markdown?"
   ]
  },
  {
   "cell_type": "markdown",
   "id": "c143f5c0",
   "metadata": {},
   "source": [
    "1. Numbered List\n",
    "* Bulleted List"
   ]
  },
  {
   "cell_type": "markdown",
   "id": "f03f4d10",
   "metadata": {},
   "source": [
    "11. How do you create bold or italic text using Markdown?"
   ]
  },
  {
   "cell_type": "code",
   "execution_count": 6,
   "id": "bfaa515d",
   "metadata": {},
   "outputs": [
    {
     "ename": "SyntaxError",
     "evalue": "invalid syntax (<ipython-input-6-2cf7decc967d>, line 1)",
     "output_type": "error",
     "traceback": [
      "\u001b[1;36m  File \u001b[1;32m\"<ipython-input-6-2cf7decc967d>\"\u001b[1;36m, line \u001b[1;32m1\u001b[0m\n\u001b[1;33m    For **Bold use \"**\"\u001b[0m\n\u001b[1;37m               ^\u001b[0m\n\u001b[1;31mSyntaxError\u001b[0m\u001b[1;31m:\u001b[0m invalid syntax\n"
     ]
    }
   ],
   "source": [
    "For **Bold use \"**\"\n",
    "For *Italic use \"*\""
   ]
  },
  {
   "cell_type": "code",
   "execution_count": null,
   "id": "1016a198",
   "metadata": {},
   "outputs": [],
   "source": []
  }
 ],
 "metadata": {
  "kernelspec": {
   "display_name": "Python 3",
   "language": "python",
   "name": "python3"
  },
  "language_info": {
   "codemirror_mode": {
    "name": "ipython",
    "version": 3
   },
   "file_extension": ".py",
   "mimetype": "text/x-python",
   "name": "python",
   "nbconvert_exporter": "python",
   "pygments_lexer": "ipython3",
   "version": "3.8.8"
  }
 },
 "nbformat": 4,
 "nbformat_minor": 5
}
